{
  "nbformat": 4,
  "nbformat_minor": 0,
  "metadata": {
    "colab": {
      "name": "Advanced-Deep-Learning-with-Keras_1장 예제.ipynb",
      "version": "0.3.2",
      "provenance": [],
      "include_colab_link": true
    },
    "kernelspec": {
      "name": "python2",
      "display_name": "Python 2"
    }
  },
  "cells": [
    {
      "cell_type": "markdown",
      "metadata": {
        "id": "view-in-github",
        "colab_type": "text"
      },
      "source": [
        "<a href=\"https://colab.research.google.com/github/sabumjung/Tensorflow/blob/master/Advanced_Deep_Learning_with_Keras_1%EC%9E%A5_%EC%98%88%EC%A0%9C.ipynb\" target=\"_parent\"><img src=\"https://colab.research.google.com/assets/colab-badge.svg\" alt=\"Open In Colab\"/></a>"
      ]
    },
    {
      "metadata": {
        "id": "16GCTqjdl-OK",
        "colab_type": "code",
        "colab": {}
      },
      "cell_type": "code",
      "source": [
        "'''A simple MLP in Keras implementing linear regression.\n",
        "'''\n",
        "\n",
        "# 이 모듈은 파이썬2.x 에서 몇몇 기능들을 파이썬3.x 와 같이 사용 가능하게 만들어 주는 모듈\n",
        "\n",
        "from __future__ import absolute_import\n",
        "from __future__ import division\n",
        "from __future__ import print_function\n",
        "\n",
        "# numpy package\n",
        "import numpy as np\n",
        "\n",
        "# keras modules\n",
        "from keras.models import Sequential\n",
        "from keras.layers import Dense\n",
        "from keras.utils import plot_model"
      ],
      "execution_count": 0,
      "outputs": []
    },
    {
      "metadata": {
        "id": "Uionu9wkmEXO",
        "colab_type": "code",
        "colab": {
          "base_uri": "https://localhost:8080/",
          "height": 87
        },
        "outputId": "782ceae9-fdbf-4c8d-9fbf-c7a992913bdc"
      },
      "cell_type": "code",
      "source": [
        "# generate x data\n",
        "x = np.arange(-1,1,0.2)\n",
        "print(x)\n",
        "\n",
        "\n",
        "# NumPy 버전의 range 명령이라고 할 수 있음\n",
        "# np.arange(3)의 경우 stop 매개변수의 값만 전달되었으므로 [0, 3) 의 반열린구간에서 0을 시작으로 1 간격으로 떨어진 수들을 array [0, 1, 2]의 형태로 반환함\n",
        "x1=np.arange(3)\n",
        "# np.arange(3.0)의 경우 stop매개변수로 dtype 의 주어지지 않았지만, 전달된 stop 매개변수의 값 3.0 으로 부터 정수가 아닌 실수값임을 추론함\n",
        "x2=np.arange(3.0)\n",
        "# 시작=2, 종료=5미만, Step=2 이므로 값은 2, 4임\n",
        "x3=np.arange(2,5,2)\n",
        "print(x1, x2, x3)"
      ],
      "execution_count": 13,
      "outputs": [
        {
          "output_type": "stream",
          "text": [
            "[-1.00000000e+00 -8.00000000e-01 -6.00000000e-01 -4.00000000e-01\n",
            " -2.00000000e-01 -2.22044605e-16  2.00000000e-01  4.00000000e-01\n",
            "  6.00000000e-01  8.00000000e-01]\n",
            "[0 1 2] [0. 1. 2.] [2 4]\n"
          ],
          "name": "stdout"
        }
      ]
    },
    {
      "metadata": {
        "id": "6THbfW42nViO",
        "colab_type": "code",
        "colab": {
          "base_uri": "https://localhost:8080/",
          "height": 301
        },
        "outputId": "14fff6e3-bb7d-4fb3-94d2-2132ba1f57c5"
      },
      "cell_type": "code",
      "source": [
        "#x에 대한 행렬 shape를 변환한다.\n",
        "#-1은 행의 사이즈이며 해당 사이즈를 지정하는 않는 경우에 사용하는 방법이다.\n",
        "x = np.reshape(x, [-1,1])\n",
        "print(x)\n",
        "x1=np.reshape(x,[1,-1])\n",
        "print(x1)\n",
        "x2=np.reshape(x,[-1])\n",
        "print(x2)"
      ],
      "execution_count": 17,
      "outputs": [
        {
          "output_type": "stream",
          "text": [
            "[[-1.00000000e+00]\n",
            " [-8.00000000e-01]\n",
            " [-6.00000000e-01]\n",
            " [-4.00000000e-01]\n",
            " [-2.00000000e-01]\n",
            " [-2.22044605e-16]\n",
            " [ 2.00000000e-01]\n",
            " [ 4.00000000e-01]\n",
            " [ 6.00000000e-01]\n",
            " [ 8.00000000e-01]]\n",
            "[[-1.00000000e+00 -8.00000000e-01 -6.00000000e-01 -4.00000000e-01\n",
            "  -2.00000000e-01 -2.22044605e-16  2.00000000e-01  4.00000000e-01\n",
            "   6.00000000e-01  8.00000000e-01]]\n",
            "[-1.00000000e+00 -8.00000000e-01 -6.00000000e-01 -4.00000000e-01\n",
            " -2.00000000e-01 -2.22044605e-16  2.00000000e-01  4.00000000e-01\n",
            "  6.00000000e-01  8.00000000e-01]\n"
          ],
          "name": "stdout"
        }
      ]
    },
    {
      "metadata": {
        "id": "wPDL_KQNmIam",
        "colab_type": "code",
        "colab": {
          "base_uri": "https://localhost:8080/",
          "height": 212
        },
        "outputId": "55251337-4454-4d37-aee7-f11de7bf1644"
      },
      "cell_type": "code",
      "source": [
        "# deep learning method\n",
        "# build 2-layer MLP network \n",
        "\n",
        "# 1번째층 - 입력 : 1개 차원, 8개 유닛\n",
        "\n",
        "# 2nd MLP has 1 unit, output is 1-dim\n",
        "# 2번째층 - 1개 유닛, 출력 1차원\n",
        "\n",
        "# model.summary를 통하여 네트워크 구조를 더블체크를 한다.\n",
        "model = Sequential()\n",
        "model.add(Dense(units=8, input_dim=1))\n",
        "model.add(Dense(units=1))\n",
        "model.summary()\n"
      ],
      "execution_count": 27,
      "outputs": [
        {
          "output_type": "stream",
          "text": [
            "_________________________________________________________________\n",
            "Layer (type)                 Output Shape              Param #   \n",
            "=================================================================\n",
            "dense_13 (Dense)             (None, 8)                 16        \n",
            "_________________________________________________________________\n",
            "dense_14 (Dense)             (None, 1)                 9         \n",
            "=================================================================\n",
            "Total params: 25\n",
            "Trainable params: 25\n",
            "Non-trainable params: 0\n",
            "_________________________________________________________________\n"
          ],
          "name": "stdout"
        }
      ]
    },
    {
      "metadata": {
        "id": "yh4lNrl7rMIn",
        "colab_type": "code",
        "colab": {
          "base_uri": "https://localhost:8080/",
          "height": 3572
        },
        "outputId": "de757c83-d9f6-435e-a01f-1ebed0a4d398"
      },
      "cell_type": "code",
      "source": [
        "# # create a nice image of the network model\n",
        "# plot_model(model, to_file='linear-model.png', show_shapes=True)\n",
        "# # indicate the loss function and use stochastic gradient descent\n",
        "# # (sgd) as optimizer\n",
        "# feed the network with complete dataset (1 epoch) 100 times\n",
        "# batch size of sgd is 4\n",
        "\n",
        "# 모델정의 -> Optimize -> Cost함수 정의\n",
        "model.compile(loss='mse', optimizer='sgd')\n",
        "# 최적화 방법 : 에포크, 배치 설정\n",
        "model.fit(x, y, epochs=100, batch_size=4)\n",
        "\n",
        "# 최적화 모델링 검증\n",
        "ypred = model.predict(x)\n",
        "\n"
      ],
      "execution_count": 23,
      "outputs": [
        {
          "output_type": "stream",
          "text": [
            "Epoch 1/100\n",
            "10/10 [==============================] - 0s 42ms/step - loss: 9.4810\n",
            "Epoch 2/100\n",
            "10/10 [==============================] - 0s 814us/step - loss: 8.0944\n",
            "Epoch 3/100\n",
            "10/10 [==============================] - 0s 797us/step - loss: 6.9918\n",
            "Epoch 4/100\n",
            "10/10 [==============================] - 0s 654us/step - loss: 6.0507\n",
            "Epoch 5/100\n",
            "10/10 [==============================] - 0s 824us/step - loss: 5.2018\n",
            "Epoch 6/100\n",
            "10/10 [==============================] - 0s 849us/step - loss: 4.4360\n",
            "Epoch 7/100\n",
            "10/10 [==============================] - 0s 851us/step - loss: 3.8663\n",
            "Epoch 8/100\n",
            "10/10 [==============================] - 0s 734us/step - loss: 3.3177\n",
            "Epoch 9/100\n",
            "10/10 [==============================] - 0s 892us/step - loss: 2.8901\n",
            "Epoch 10/100\n",
            "10/10 [==============================] - 0s 843us/step - loss: 2.4518\n",
            "Epoch 11/100\n",
            "10/10 [==============================] - 0s 842us/step - loss: 2.0262\n",
            "Epoch 12/100\n",
            "10/10 [==============================] - 0s 834us/step - loss: 1.7663\n",
            "Epoch 13/100\n",
            "10/10 [==============================] - 0s 987us/step - loss: 1.4987\n",
            "Epoch 14/100\n",
            "10/10 [==============================] - 0s 640us/step - loss: 1.2878\n",
            "Epoch 15/100\n",
            "10/10 [==============================] - 0s 729us/step - loss: 1.1236\n",
            "Epoch 16/100\n",
            "10/10 [==============================] - 0s 675us/step - loss: 0.9695\n",
            "Epoch 17/100\n",
            "10/10 [==============================] - 0s 748us/step - loss: 0.8395\n",
            "Epoch 18/100\n",
            "10/10 [==============================] - 0s 716us/step - loss: 0.7268\n",
            "Epoch 19/100\n",
            "10/10 [==============================] - 0s 714us/step - loss: 0.6366\n",
            "Epoch 20/100\n",
            "10/10 [==============================] - 0s 659us/step - loss: 0.5535\n",
            "Epoch 21/100\n",
            "10/10 [==============================] - 0s 601us/step - loss: 0.4749\n",
            "Epoch 22/100\n",
            "10/10 [==============================] - 0s 491us/step - loss: 0.4027\n",
            "Epoch 23/100\n",
            "10/10 [==============================] - 0s 488us/step - loss: 0.3577\n",
            "Epoch 24/100\n",
            "10/10 [==============================] - 0s 494us/step - loss: 0.2965\n",
            "Epoch 25/100\n",
            "10/10 [==============================] - 0s 553us/step - loss: 0.2551\n",
            "Epoch 26/100\n",
            "10/10 [==============================] - 0s 744us/step - loss: 0.2195\n",
            "Epoch 27/100\n",
            "10/10 [==============================] - 0s 744us/step - loss: 0.1873\n",
            "Epoch 28/100\n",
            "10/10 [==============================] - 0s 841us/step - loss: 0.1574\n",
            "Epoch 29/100\n",
            "10/10 [==============================] - 0s 811us/step - loss: 0.1266\n",
            "Epoch 30/100\n",
            "10/10 [==============================] - 0s 792us/step - loss: 0.1091\n",
            "Epoch 31/100\n",
            "10/10 [==============================] - 0s 870us/step - loss: 0.0901\n",
            "Epoch 32/100\n",
            "10/10 [==============================] - 0s 903us/step - loss: 0.0770\n",
            "Epoch 33/100\n",
            "10/10 [==============================] - 0s 631us/step - loss: 0.0664\n",
            "Epoch 34/100\n",
            "10/10 [==============================] - 0s 795us/step - loss: 0.0559\n",
            "Epoch 35/100\n",
            "10/10 [==============================] - 0s 1ms/step - loss: 0.0478\n",
            "Epoch 36/100\n",
            "10/10 [==============================] - 0s 921us/step - loss: 0.0384\n",
            "Epoch 37/100\n",
            "10/10 [==============================] - 0s 535us/step - loss: 0.0323\n",
            "Epoch 38/100\n",
            "10/10 [==============================] - 0s 475us/step - loss: 0.0261\n",
            "Epoch 39/100\n",
            "10/10 [==============================] - 0s 432us/step - loss: 0.0219\n",
            "Epoch 40/100\n",
            "10/10 [==============================] - 0s 487us/step - loss: 0.0187\n",
            "Epoch 41/100\n",
            "10/10 [==============================] - 0s 474us/step - loss: 0.0146\n",
            "Epoch 42/100\n",
            "10/10 [==============================] - 0s 514us/step - loss: 0.0118\n",
            "Epoch 43/100\n",
            "10/10 [==============================] - 0s 439us/step - loss: 0.0096\n",
            "Epoch 44/100\n",
            "10/10 [==============================] - 0s 1ms/step - loss: 0.0078\n",
            "Epoch 45/100\n",
            "10/10 [==============================] - 0s 674us/step - loss: 0.0062\n",
            "Epoch 46/100\n",
            "10/10 [==============================] - 0s 531us/step - loss: 0.0050\n",
            "Epoch 47/100\n",
            "10/10 [==============================] - 0s 548us/step - loss: 0.0041\n",
            "Epoch 48/100\n",
            "10/10 [==============================] - 0s 517us/step - loss: 0.0035\n",
            "Epoch 49/100\n",
            "10/10 [==============================] - 0s 428us/step - loss: 0.0029\n",
            "Epoch 50/100\n",
            "10/10 [==============================] - 0s 494us/step - loss: 0.0023\n",
            "Epoch 51/100\n",
            "10/10 [==============================] - 0s 552us/step - loss: 0.0018\n",
            "Epoch 52/100\n",
            "10/10 [==============================] - 0s 467us/step - loss: 0.0015\n",
            "Epoch 53/100\n",
            "10/10 [==============================] - 0s 513us/step - loss: 0.0012\n",
            "Epoch 54/100\n",
            "10/10 [==============================] - 0s 516us/step - loss: 0.0010\n",
            "Epoch 55/100\n",
            "10/10 [==============================] - 0s 434us/step - loss: 7.8602e-04\n",
            "Epoch 56/100\n",
            "10/10 [==============================] - 0s 556us/step - loss: 6.3036e-04\n",
            "Epoch 57/100\n",
            "10/10 [==============================] - 0s 524us/step - loss: 5.1467e-04\n",
            "Epoch 58/100\n",
            "10/10 [==============================] - 0s 447us/step - loss: 4.0866e-04\n",
            "Epoch 59/100\n",
            "10/10 [==============================] - 0s 497us/step - loss: 3.1708e-04\n",
            "Epoch 60/100\n",
            "10/10 [==============================] - 0s 523us/step - loss: 2.5382e-04\n",
            "Epoch 61/100\n",
            "10/10 [==============================] - 0s 479us/step - loss: 2.0568e-04\n",
            "Epoch 62/100\n",
            "10/10 [==============================] - 0s 381us/step - loss: 1.6957e-04\n",
            "Epoch 63/100\n",
            "10/10 [==============================] - 0s 362us/step - loss: 1.3601e-04\n",
            "Epoch 64/100\n",
            "10/10 [==============================] - 0s 481us/step - loss: 1.1192e-04\n",
            "Epoch 65/100\n",
            "10/10 [==============================] - 0s 593us/step - loss: 9.1792e-05\n",
            "Epoch 66/100\n",
            "10/10 [==============================] - 0s 510us/step - loss: 7.0789e-05\n",
            "Epoch 67/100\n",
            "10/10 [==============================] - 0s 667us/step - loss: 5.8769e-05\n",
            "Epoch 68/100\n",
            "10/10 [==============================] - 0s 492us/step - loss: 4.7828e-05\n",
            "Epoch 69/100\n",
            "10/10 [==============================] - 0s 505us/step - loss: 3.9741e-05\n",
            "Epoch 70/100\n",
            "10/10 [==============================] - 0s 542us/step - loss: 3.0747e-05\n",
            "Epoch 71/100\n",
            "10/10 [==============================] - 0s 510us/step - loss: 2.5408e-05\n",
            "Epoch 72/100\n",
            "10/10 [==============================] - 0s 522us/step - loss: 2.0411e-05\n",
            "Epoch 73/100\n",
            "10/10 [==============================] - 0s 418us/step - loss: 1.6595e-05\n",
            "Epoch 74/100\n",
            "10/10 [==============================] - 0s 433us/step - loss: 1.2968e-05\n",
            "Epoch 75/100\n",
            "10/10 [==============================] - 0s 408us/step - loss: 1.0106e-05\n",
            "Epoch 76/100\n",
            "10/10 [==============================] - 0s 461us/step - loss: 8.2600e-06\n",
            "Epoch 77/100\n",
            "10/10 [==============================] - 0s 521us/step - loss: 7.2503e-06\n",
            "Epoch 78/100\n",
            "10/10 [==============================] - 0s 501us/step - loss: 5.5750e-06\n",
            "Epoch 79/100\n",
            "10/10 [==============================] - 0s 495us/step - loss: 4.7121e-06\n",
            "Epoch 80/100\n",
            "10/10 [==============================] - 0s 511us/step - loss: 3.9496e-06\n",
            "Epoch 81/100\n",
            "10/10 [==============================] - 0s 341us/step - loss: 3.1870e-06\n",
            "Epoch 82/100\n",
            "10/10 [==============================] - 0s 549us/step - loss: 2.4491e-06\n",
            "Epoch 83/100\n",
            "10/10 [==============================] - 0s 520us/step - loss: 2.0170e-06\n",
            "Epoch 84/100\n",
            "10/10 [==============================] - 0s 472us/step - loss: 1.6953e-06\n",
            "Epoch 85/100\n",
            "10/10 [==============================] - 0s 435us/step - loss: 1.3530e-06\n",
            "Epoch 86/100\n",
            "10/10 [==============================] - 0s 463us/step - loss: 1.0601e-06\n",
            "Epoch 87/100\n",
            "10/10 [==============================] - 0s 487us/step - loss: 8.6899e-07\n",
            "Epoch 88/100\n",
            "10/10 [==============================] - 0s 481us/step - loss: 6.8017e-07\n",
            "Epoch 89/100\n",
            "10/10 [==============================] - 0s 463us/step - loss: 5.5462e-07\n",
            "Epoch 90/100\n",
            "10/10 [==============================] - 0s 468us/step - loss: 4.3955e-07\n",
            "Epoch 91/100\n",
            "10/10 [==============================] - 0s 552us/step - loss: 3.6683e-07\n",
            "Epoch 92/100\n",
            "10/10 [==============================] - 0s 630us/step - loss: 2.9855e-07\n",
            "Epoch 93/100\n",
            "10/10 [==============================] - 0s 490us/step - loss: 2.3435e-07\n",
            "Epoch 94/100\n",
            "10/10 [==============================] - 0s 478us/step - loss: 1.9621e-07\n",
            "Epoch 95/100\n",
            "10/10 [==============================] - 0s 456us/step - loss: 1.4915e-07\n",
            "Epoch 96/100\n",
            "10/10 [==============================] - 0s 606us/step - loss: 1.2555e-07\n",
            "Epoch 97/100\n",
            "10/10 [==============================] - 0s 638us/step - loss: 9.5731e-08\n",
            "Epoch 98/100\n",
            "10/10 [==============================] - 0s 533us/step - loss: 8.0024e-08\n",
            "Epoch 99/100\n",
            "10/10 [==============================] - 0s 534us/step - loss: 6.3808e-08\n",
            "Epoch 100/100\n",
            "10/10 [==============================] - 0s 431us/step - loss: 5.3756e-08\n"
          ],
          "name": "stdout"
        }
      ]
    },
    {
      "metadata": {
        "id": "F8Zj9gsNxDPO",
        "colab_type": "code",
        "colab": {
          "base_uri": "https://localhost:8080/",
          "height": 105
        },
        "outputId": "f56def57-fabf-46c3-d631-739d08ff65db"
      },
      "cell_type": "code",
      "source": [
        "!pip install pydot"
      ],
      "execution_count": 21,
      "outputs": [
        {
          "output_type": "stream",
          "text": [
            "Collecting pydot\n",
            "  Downloading https://files.pythonhosted.org/packages/53/11/9db5c788f5ad05438b7c2a07fd7edd9820b7f3d95bb0690a16f7bf426204/pydot-1.4.0-py2.py3-none-any.whl\n",
            "Requirement already satisfied: pyparsing>=2.1.4 in /usr/local/lib/python2.7/dist-packages (from pydot) (2.3.0)\n",
            "Installing collected packages: pydot\n",
            "Successfully installed pydot-1.4.0\n"
          ],
          "name": "stdout"
        }
      ]
    },
    {
      "metadata": {
        "id": "1b4ui1i2xJ_9",
        "colab_type": "code",
        "colab": {}
      },
      "cell_type": "code",
      "source": [
        ""
      ],
      "execution_count": 0,
      "outputs": []
    }
  ]
}