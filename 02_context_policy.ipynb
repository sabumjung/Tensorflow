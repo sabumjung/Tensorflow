{
  "nbformat": 4,
  "nbformat_minor": 0,
  "metadata": {
    "colab": {
      "name": "02_context_policy.ipynb",
      "version": "0.3.2",
      "provenance": [],
      "include_colab_link": true
    },
    "kernelspec": {
      "name": "python2",
      "display_name": "Python 2"
    }
  },
  "cells": [
    {
      "cell_type": "markdown",
      "metadata": {
        "id": "view-in-github",
        "colab_type": "text"
      },
      "source": [
        "[View in Colaboratory](https://colab.research.google.com/github/sabumjung/Tensorflow/blob/master/02_context_policy.ipynb)"
      ]
    },
    {
      "metadata": {
        "id": "6i8f2i3x5JIS",
        "colab_type": "code",
        "colab": {}
      },
      "cell_type": "code",
      "source": [
        "#관련 패키지 불러오기\n",
        "import tensorflow as tf\n",
        "import tensorflow.contrib.slim as slim\n",
        "import numpy as np"
      ],
      "execution_count": 0,
      "outputs": []
    },
    {
      "metadata": {
        "id": "j_yVYrC06vEf",
        "colab_type": "code",
        "colab": {}
      },
      "cell_type": "code",
      "source": [
        "#컨텍스트 밴딧 클래스 정의\n",
        "class contextual_bandit():\n",
        "    def __init__(self):\n",
        "        self.state = 0\n",
        "        #각각 4개의 밴딧으로 구성된 밴딧그룹 3개 정의 : 4, 2, 1번 밴딧이 가장 최적임\n",
        "        self.bandits = np.array([[0.2,0,-0.0,-5],[0.1,-5,1,0.25],[-5,5,5,5]])\n",
        "        self.num_bandits = self.bandits.shape[0]\n",
        "        self.num_actions = self.bandits.shape[1]\n",
        "        \n",
        "    def getBandit(self):\n",
        "        self.state = np.random.randint(0,len(self.bandits)) #각 에폭에 대한 랜덤상태 리턴\n",
        "        return self.state\n",
        "        \n",
        "    def pullArm(self,action):\n",
        "        #랜덤숫자 가져오기\n",
        "        bandit = self.bandits[self.state,action]\n",
        "        result = np.random.randn(1)\n",
        "        if result > bandit:\n",
        "            #양의 보상값 리턴\n",
        "            return 1\n",
        "        else:\n",
        "            #음의 보상값 리턴\n",
        "            return -1"
      ],
      "execution_count": 0,
      "outputs": []
    },
    {
      "metadata": {
        "id": "3fn9Yhmm7Mzc",
        "colab_type": "code",
        "colab": {}
      },
      "cell_type": "code",
      "source": [
        "class agent():\n",
        "    def __init__(self, lr, s_size,a_size):\n",
        "        #These lines established the feed-forward part of the network. The agent takes a state and produces an action.\n",
        "        self.state_in= tf.placeholder(shape=[1],dtype=tf.int32)\n",
        "        state_in_OH = slim.one_hot_encoding(self.state_in,s_size)\n",
        "        output = slim.fully_connected(state_in_OH,a_size,\\\n",
        "            biases_initializer=None,activation_fn=tf.nn.sigmoid,weights_initializer=tf.ones_initializer())\n",
        "        self.output = tf.reshape(output,[-1])\n",
        "        self.chosen_action = tf.argmax(self.output,0)\n",
        "\n",
        "        #The next six lines establish the training proceedure. We feed the reward and chosen action into the network\n",
        "        #to compute the loss, and use it to update the network.\n",
        "        self.reward_holder = tf.placeholder(shape=[1],dtype=tf.float32)\n",
        "        self.action_holder = tf.placeholder(shape=[1],dtype=tf.int32)\n",
        "        self.responsible_weight = tf.slice(self.output,self.action_holder,[1])\n",
        "        self.loss = -(tf.log(self.responsible_weight)*self.reward_holder)\n",
        "        optimizer = tf.train.GradientDescentOptimizer(learning_rate=lr)\n",
        "        self.update = optimizer.minimize(self.loss)"
      ],
      "execution_count": 0,
      "outputs": []
    },
    {
      "metadata": {
        "id": "DJqQ0G7rDxug",
        "colab_type": "code",
        "colab": {
          "base_uri": "https://localhost:8080/",
          "height": 466
        },
        "outputId": "e0e48689-633d-478f-820b-220f43ece1e7"
      },
      "cell_type": "code",
      "source": [
        "tf.reset_default_graph() #Clear the Tensorflow graph.\n",
        "\n",
        "cBandit = contextual_bandit() #Load the bandits.\n",
        "myAgent = agent(lr=0.001,s_size=cBandit.num_bandits,a_size=cBandit.num_actions) #Load the agent.\n",
        "weights = tf.trainable_variables()[0] #The weights we will evaluate to look into the network.\n",
        "\n",
        "total_episodes = 10000 #Set total number of episodes to train agent on.\n",
        "total_reward = np.zeros([cBandit.num_bandits,cBandit.num_actions]) #Set scoreboard for bandits to 0.\n",
        "e = 0.1 #Set the chance of taking a random action.\n",
        "\n",
        "init = tf.global_variables_initializer()\n",
        "\n",
        "# Launch the tensorflow graph\n",
        "with tf.Session() as sess:\n",
        "    sess.run(init)\n",
        "    i = 0\n",
        "    while i < total_episodes:\n",
        "        s = cBandit.getBandit() #Get a state from the environment.\n",
        "        \n",
        "        #Choose either a random action or one from our network.\n",
        "        if np.random.rand(1) < e:\n",
        "            action = np.random.randint(cBandit.num_actions)\n",
        "        else:\n",
        "            action = sess.run(myAgent.chosen_action,feed_dict={myAgent.state_in:[s]})\n",
        "        \n",
        "        reward = cBandit.pullArm(action) #Get our reward for taking an action given a bandit.\n",
        "        \n",
        "        #Update the network.\n",
        "        feed_dict={myAgent.reward_holder:[reward],myAgent.action_holder:[action],myAgent.state_in:[s]}\n",
        "        _,ww = sess.run([myAgent.update,weights], feed_dict=feed_dict)\n",
        "        \n",
        "        #Update our running tally of scores.\n",
        "        total_reward[s,action] += reward\n",
        "        if i % 500 == 0:\n",
        "            print(\"Mean reward for each of the \" + str(cBandit.num_bandits) + \" bandits: \" + str(np.mean(total_reward,axis=1)))\n",
        "        i+=1\n",
        "for a in range(cBandit.num_bandits):\n",
        "    print(\"The agent thinks action \" + str(np.argmax(ww[a])+1) + \" for bandit \" + str(a+1) + \" is the most promising....\")\n",
        "    if np.argmax(ww[a]) == np.argmin(cBandit.bandits[a]):\n",
        "        print(\"...and it was right!\")\n",
        "    else:\n",
        "        print(\"...and it was wrong!\")"
      ],
      "execution_count": 5,
      "outputs": [
        {
          "output_type": "stream",
          "text": [
            "Mean reward for each of the 3 bandits: [0.25 0.   0.  ]\n",
            "Mean reward for each of the 3 bandits: [39.25 34.25 40.75]\n",
            "Mean reward for each of the 3 bandits: [78.5  68.5  76.25]\n",
            "Mean reward for each of the 3 bandits: [119.5   99.75 115.  ]\n",
            "Mean reward for each of the 3 bandits: [158.   140.75 149.5 ]\n",
            "Mean reward for each of the 3 bandits: [195.75 180.5  185.  ]\n",
            "Mean reward for each of the 3 bandits: [234.   214.25 219.5 ]\n",
            "Mean reward for each of the 3 bandits: [271.5  248.5  257.75]\n",
            "Mean reward for each of the 3 bandits: [309.   288.   293.25]\n",
            "Mean reward for each of the 3 bandits: [349.25 325.5  329.5 ]\n",
            "Mean reward for each of the 3 bandits: [389.5  363.25 365.  ]\n",
            "Mean reward for each of the 3 bandits: [429.   399.75 401.5 ]\n",
            "Mean reward for each of the 3 bandits: [467.25 435.25 445.75]\n",
            "Mean reward for each of the 3 bandits: [501.75 475.25 479.25]\n",
            "Mean reward for each of the 3 bandits: [540.75 510.25 514.75]\n",
            "Mean reward for each of the 3 bandits: [578.75 547.25 552.25]\n",
            "Mean reward for each of the 3 bandits: [616.25 583.75 588.75]\n",
            "Mean reward for each of the 3 bandits: [657.25 619.25 623.25]\n",
            "Mean reward for each of the 3 bandits: [697.25 653.   658.  ]\n",
            "Mean reward for each of the 3 bandits: [738.25 687.   694.5 ]\n",
            "The agent thinks action 4 for bandit 1 is the most promising....\n",
            "...and it was right!\n",
            "The agent thinks action 2 for bandit 2 is the most promising....\n",
            "...and it was right!\n",
            "The agent thinks action 1 for bandit 3 is the most promising....\n",
            "...and it was right!\n"
          ],
          "name": "stdout"
        }
      ]
    },
    {
      "metadata": {
        "id": "uK5K_M62D1F8",
        "colab_type": "code",
        "colab": {}
      },
      "cell_type": "code",
      "source": [
        ""
      ],
      "execution_count": 0,
      "outputs": []
    }
  ]
}