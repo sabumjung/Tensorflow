{
  "nbformat": 4,
  "nbformat_minor": 0,
  "metadata": {
    "colab": {
      "name": "Untitled33.ipynb",
      "version": "0.3.2",
      "provenance": [],
      "include_colab_link": true
    },
    "kernelspec": {
      "name": "python2",
      "display_name": "Python 2"
    }
  },
  "cells": [
    {
      "cell_type": "markdown",
      "metadata": {
        "id": "view-in-github",
        "colab_type": "text"
      },
      "source": [
        "<a href=\"https://colab.research.google.com/github/sabumjung/Tensorflow/blob/master/Untitled33.ipynb\" target=\"_parent\"><img src=\"https://colab.research.google.com/assets/colab-badge.svg\" alt=\"Open In Colab\"/></a>"
      ]
    },
    {
      "metadata": {
        "id": "D07ae4CH_QRH",
        "colab_type": "code",
        "colab": {}
      },
      "cell_type": "code",
      "source": [
        "import numpy as np"
      ],
      "execution_count": 0,
      "outputs": []
    },
    {
      "metadata": {
        "id": "GtKW-XMS_bcL",
        "colab_type": "code",
        "colab": {}
      },
      "cell_type": "code",
      "source": [
        "nan=np.nan"
      ],
      "execution_count": 0,
      "outputs": []
    },
    {
      "metadata": {
        "id": "dfTxksfZ_c9z",
        "colab_type": "code",
        "colab": {}
      },
      "cell_type": "code",
      "source": [
        "#3*3*3행렬\n",
        "T=np.array([\n",
        "    [[0.7, 0.3, 0.0], [1.0, 0.0, 0.0], [0.8,0.2,0.0]],\n",
        "    [[0.0, 1.0, 0.0], [nan, nan, nan], [0.0,0.0,1.0]],\n",
        "    [[nan, nan, nan], [0.8, 0.1, 0.1], [nan, nan, nan]],\n",
        "])"
      ],
      "execution_count": 0,
      "outputs": []
    },
    {
      "metadata": {
        "id": "1SAxrTDm__RM",
        "colab_type": "code",
        "colab": {}
      },
      "cell_type": "code",
      "source": [
        "R=np.array([\n",
        "    [[10., 0.0, 0.0], [1.0, 0.0, 0.0], [0.0,0.0,0.0]],\n",
        "    [[0.0, 0.0, 0.0], [nan, nan, nan], [0.0,0.0,-50.]],\n",
        "    [[nan, nan, nan], [40., 0.0, 0.0], [nan, nan, nan]],\n",
        "])"
      ],
      "execution_count": 0,
      "outputs": []
    },
    {
      "metadata": {
        "id": "IcLaNuShAXI-",
        "colab_type": "code",
        "colab": {}
      },
      "cell_type": "code",
      "source": [
        "possible_actions=[[0,1,2],[0,2],[1]]"
      ],
      "execution_count": 0,
      "outputs": []
    },
    {
      "metadata": {
        "id": "AVNNdDPmAcZL",
        "colab_type": "code",
        "colab": {}
      },
      "cell_type": "code",
      "source": [
        "Q=np.full((3,3),-np.inf)"
      ],
      "execution_count": 0,
      "outputs": []
    },
    {
      "metadata": {
        "id": "TkxDUswtAf6c",
        "colab_type": "code",
        "colab": {
          "base_uri": "https://localhost:8080/",
          "height": 70
        },
        "outputId": "dd2099c0-4e82-46aa-ac5d-e63ad0a80f5f"
      },
      "cell_type": "code",
      "source": [
        "print(Q)\n"
      ],
      "execution_count": 14,
      "outputs": [
        {
          "output_type": "stream",
          "text": [
            "[[-inf -inf -inf]\n",
            " [-inf -inf -inf]\n",
            " [-inf -inf -inf]]\n"
          ],
          "name": "stdout"
        }
      ]
    },
    {
      "metadata": {
        "id": "JyFn2Mf4CTeP",
        "colab_type": "code",
        "colab": {
          "base_uri": "https://localhost:8080/",
          "height": 70
        },
        "outputId": "23378cef-f82d-42ff-a352-c8c88ef56ddc"
      },
      "cell_type": "code",
      "source": [
        "for i, name in enumerate(['body', 'foo', 'bar']):\n",
        "  print(i,name)"
      ],
      "execution_count": 28,
      "outputs": [
        {
          "output_type": "stream",
          "text": [
            "(0, 'body')\n",
            "(1, 'foo')\n",
            "(2, 'bar')\n"
          ],
          "name": "stdout"
        }
      ]
    },
    {
      "metadata": {
        "id": "Gk5LcNc7Cyui",
        "colab_type": "code",
        "colab": {
          "base_uri": "https://localhost:8080/",
          "height": 70
        },
        "outputId": "a4d027b7-f48c-4e24-f0d0-f045f59e1b72"
      },
      "cell_type": "code",
      "source": [
        "for state,actions in enumerate(possible_actions):\n",
        "  print(state,actions)"
      ],
      "execution_count": 29,
      "outputs": [
        {
          "output_type": "stream",
          "text": [
            "(0, [0, 1, 2])\n",
            "(1, [0, 2])\n",
            "(2, [1])\n"
          ],
          "name": "stdout"
        }
      ]
    },
    {
      "metadata": {
        "id": "L8VO7s0vAg0d",
        "colab_type": "code",
        "colab": {
          "base_uri": "https://localhost:8080/",
          "height": 176
        },
        "outputId": "3d0faa5c-648a-4ee5-b8ca-44208a1e9ad7"
      },
      "cell_type": "code",
      "source": [
        "for state, actions in enumerate(possible_actions):\n",
        "  Q[state,actions]=0.0\n",
        "  discount_factor=0.95\n",
        "  n_iterations=100\n",
        "\n",
        "  print(Q)\n",
        "  \n",
        "  \n",
        "  for iteration in range(n_iterations):\n",
        "    Q_prev=Q.copy()\n",
        "    for s in range(3):\n",
        "      for a in possible_actions[s]:\n",
        "        Q[s,a]=np.sum([\n",
        "            T[s,a,sp]*(R[s,a,sp]+discount_factor*np.max(Q_prev[sp]))\n",
        "            for sp in range(3)\n",
        "        ])"
      ],
      "execution_count": 30,
      "outputs": [
        {
          "output_type": "stream",
          "text": [
            "[[  0.   0.   0.]\n",
            " [ nan -inf  nan]\n",
            " [-inf  nan -inf]]\n",
            "[[ nan  nan  nan]\n",
            " [  0. -inf   0.]\n",
            " [-inf  nan -inf]]\n",
            "[[ nan  nan  nan]\n",
            " [ nan -inf  nan]\n",
            " [-inf   0. -inf]]\n"
          ],
          "name": "stdout"
        }
      ]
    },
    {
      "metadata": {
        "id": "1C0HJOntBGTB",
        "colab_type": "code",
        "colab": {
          "base_uri": "https://localhost:8080/",
          "height": 70
        },
        "outputId": "36a2aa54-9950-4f3d-8a75-17969374d26b"
      },
      "cell_type": "code",
      "source": [
        "Q  "
      ],
      "execution_count": 31,
      "outputs": [
        {
          "output_type": "execute_result",
          "data": {
            "text/plain": [
              "array([[ nan,  nan,  nan],\n",
              "       [ nan, -inf,  nan],\n",
              "       [-inf,  nan, -inf]])"
            ]
          },
          "metadata": {
            "tags": []
          },
          "execution_count": 31
        }
      ]
    },
    {
      "metadata": {
        "id": "sgpm9ftDBqIe",
        "colab_type": "code",
        "colab": {
          "base_uri": "https://localhost:8080/",
          "height": 34
        },
        "outputId": "a33a8f1b-8f09-41c0-a528-072f00885fd4"
      },
      "cell_type": "code",
      "source": [
        "np.argmax(Q,axis=1)"
      ],
      "execution_count": 23,
      "outputs": [
        {
          "output_type": "execute_result",
          "data": {
            "text/plain": [
              "array([0, 0, 1])"
            ]
          },
          "metadata": {
            "tags": []
          },
          "execution_count": 23
        }
      ]
    },
    {
      "metadata": {
        "id": "iWeAb_AuBs9L",
        "colab_type": "code",
        "colab": {}
      },
      "cell_type": "code",
      "source": [
        ""
      ],
      "execution_count": 0,
      "outputs": []
    }
  ]
}