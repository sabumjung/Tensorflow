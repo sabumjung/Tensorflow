{
  "nbformat": 4,
  "nbformat_minor": 0,
  "metadata": {
    "colab": {
      "name": "Hello, Colaboratory",
      "version": "0.3.2",
      "provenance": [],
      "collapsed_sections": [],
      "include_colab_link": true
    },
    "kernelspec": {
      "name": "python2",
      "display_name": "Python 2"
    },
    "accelerator": "GPU"
  },
  "cells": [
    {
      "cell_type": "markdown",
      "metadata": {
        "id": "view-in-github",
        "colab_type": "text"
      },
      "source": [
        "[View in Colaboratory](https://colab.research.google.com/github/sabumjung/Tensorflow/blob/master/01_%ED%85%90%EC%84%9C%EA%B8%B0%EB%B3%B8.ipynb)"
      ]
    },
    {
      "metadata": {
        "id": "Uo-kRk4NyG5C",
        "colab_type": "code",
        "colab": {}
      },
      "cell_type": "code",
      "source": [
        "import tensorflow as tf\n",
        "import numpy as np"
      ],
      "execution_count": 0,
      "outputs": []
    },
    {
      "metadata": {
        "id": "QUuBi7UpyFKh",
        "colab_type": "code",
        "colab": {}
      },
      "cell_type": "code",
      "source": [
        "#그래프 생성\n",
        "Graph1=tf.Graph()\n",
        "with Graph1.as_default():\n",
        "  x_vals=np.array([1.,3.,5.,7.,9.])\n",
        "\n",
        "  m_placeholder=tf.placeholder(tf.float32)\n",
        "  m_const=tf.constant(3.)\n",
        "  m_variable=tf.Variable(30,name=\"sabum\")\n",
        "\n",
        "  init=tf.global_variables_initializer()\n",
        "  my_product=tf.multiply(m_const, m_placeholder)  "
      ],
      "execution_count": 0,
      "outputs": []
    },
    {
      "metadata": {
        "id": "T8-OZ1VRyRXq",
        "colab_type": "code",
        "colab": {
          "base_uri": "https://localhost:8080/",
          "height": 119
        },
        "outputId": "1fe3f8bc-6faa-4967-ea29-8111e8065026"
      },
      "cell_type": "code",
      "source": [
        "#실행\n",
        "with tf.Session(graph=Graph1) as sess:\n",
        "  sess.run(init)\n",
        "  print(sess.run(m_variable))\n",
        "\n",
        "  for x_val in x_vals:\n",
        "    print(sess.run(my_product, feed_dict={m_placeholder:x_val}))"
      ],
      "execution_count": 6,
      "outputs": [
        {
          "output_type": "stream",
          "text": [
            "30\n",
            "3.0\n",
            "9.0\n",
            "15.0\n",
            "21.0\n",
            "27.0\n"
          ],
          "name": "stdout"
        }
      ]
    },
    {
      "metadata": {
        "id": "g-8L_GhJygYa",
        "colab_type": "code",
        "colab": {}
      },
      "cell_type": "code",
      "source": [
        "Graph2=tf.Graph()\n",
        "with Graph2.as_default():\n",
        "  #배열의 크기를 모르면 None으로 설정한다.\n",
        "  #특정값으로 설정했다면 반드시 동일한 사이즈의 데이터를 feed_dict에 전달해야 한다.\n",
        "  x=tf.placeholder(\"float\",[None,4])\n",
        "  y=x*10+1"
      ],
      "execution_count": 0,
      "outputs": []
    },
    {
      "metadata": {
        "id": "vzqxaDiB1uRV",
        "colab_type": "code",
        "colab": {
          "base_uri": "https://localhost:8080/",
          "height": 51
        },
        "outputId": "ebc0000e-81a0-4ae9-8922-df4efadfd15d"
      },
      "cell_type": "code",
      "source": [
        "#placeholder에 값을 배정한 후 feed_dict에 저장한다.\n",
        "with tf.Session(graph=Graph2) as sess:\n",
        "  dataX=[[12,2,0,-2],[14,4,1,0]]\n",
        "  placeX=sess.run(y, feed_dict={x:dataX})\n",
        "  print(placeX)"
      ],
      "execution_count": 8,
      "outputs": [
        {
          "output_type": "stream",
          "text": [
            "[[121.  21.   1. -19.]\n",
            " [141.  41.  11.   1.]]\n"
          ],
          "name": "stdout"
        }
      ]
    },
    {
      "metadata": {
        "id": "MMv2vRQm2BQX",
        "colab_type": "code",
        "colab": {
          "base_uri": "https://localhost:8080/",
          "height": 187
        },
        "outputId": "5ebb54b0-5cd6-49f0-f007-0154240a002a"
      },
      "cell_type": "code",
      "source": [
        "#Fixed Tensor 만들기\n",
        "sess=tf.Session()\n",
        "A=sess.run(tf.zeros([2,3]))\n",
        "B=sess.run(tf.ones([2,3]))\n",
        "C=sess.run(tf.fill([2,3],13))\n",
        "D=sess.run(tf.diag([4,-3,2]))\n",
        "E=sess.run(tf.constant([5,2,4,2]))\n",
        "print(A)\n",
        "print(B)\n",
        "print(C)\n",
        "print(D)\n",
        "print(E)"
      ],
      "execution_count": 9,
      "outputs": [
        {
          "output_type": "stream",
          "text": [
            "[[0. 0. 0.]\n",
            " [0. 0. 0.]]\n",
            "[[1. 1. 1.]\n",
            " [1. 1. 1.]]\n",
            "[[13 13 13]\n",
            " [13 13 13]]\n",
            "[[ 4  0  0]\n",
            " [ 0 -3  0]\n",
            " [ 0  0  2]]\n",
            "[5 2 4 2]\n"
          ],
          "name": "stdout"
        }
      ]
    },
    {
      "metadata": {
        "id": "59XjePog3P3h",
        "colab_type": "code",
        "colab": {
          "base_uri": "https://localhost:8080/",
          "height": 119
        },
        "outputId": "7378ca50-0637-4ef5-f5a1-5b8e164773a3"
      },
      "cell_type": "code",
      "source": [
        "#Sequence Tensor 만들기\n",
        "#증분으로 sequence 텐서생성\n",
        "G=sess.run(tf.range(start=6, limit=45, delta=3))\n",
        "\n",
        "#동일 space으로 sequence 텐서생성\n",
        "H=sess.run(tf.linspace(10.0, 92.0, 5))\n",
        "\n",
        "#랜덤텐서 생성(일양분포)\n",
        "i=sess.run(tf.random_uniform([2,3], minval=0, maxval=4))\n",
        "\n",
        "#랜덤텐서 생성(정규분포)\n",
        "j=sess.run(tf.random_normal([2,3], mean=5, stddev=4))\n",
        "\n",
        "print(G)\n",
        "print(H)\n",
        "print(i)\n",
        "print(j)"
      ],
      "execution_count": 10,
      "outputs": [
        {
          "output_type": "stream",
          "text": [
            "[ 6  9 12 15 18 21 24 27 30 33 36 39 42]\n",
            "[10.  30.5 51.  71.5 92. ]\n",
            "[[3.6422238  0.11219597 0.01660061]\n",
            " [1.250257   3.9856453  0.7761879 ]]\n",
            "[[ 2.6518233   7.6606503  -0.08774853]\n",
            " [ 7.495042   12.057694    8.872282  ]]\n"
          ],
          "name": "stdout"
        }
      ]
    },
    {
      "metadata": {
        "id": "UeaS9zjT4uBz",
        "colab_type": "code",
        "colab": {
          "base_uri": "https://localhost:8080/",
          "height": 136
        },
        "outputId": "07549a96-57b3-42ea-e162-c95c971f6ea0"
      },
      "cell_type": "code",
      "source": [
        "#행렬 shuffle하기\n",
        "k=sess.run(tf.diag([3,-2,4,5]))\n",
        "k1=sess.run(tf.random_shuffle(k))\n",
        "\n",
        "#sub행렬 가져오기\n",
        "k2=sess.run(tf.random_crop(k1, [3,2]))\n",
        "\n",
        "print(k1)\n",
        "print(k2)"
      ],
      "execution_count": 11,
      "outputs": [
        {
          "output_type": "stream",
          "text": [
            "[[ 0 -2  0  0]\n",
            " [ 0  0  4  0]\n",
            " [ 0  0  0  5]\n",
            " [ 3  0  0  0]]\n",
            "[[0 4]\n",
            " [0 0]\n",
            " [0 0]]\n"
          ],
          "name": "stdout"
        }
      ]
    },
    {
      "metadata": {
        "id": "ETeuZKyl5zNT",
        "colab_type": "code",
        "colab": {
          "base_uri": "https://localhost:8080/",
          "height": 51
        },
        "outputId": "b4aa9666-8641-4b98-ea24-91f2a3b3f019"
      },
      "cell_type": "code",
      "source": [
        "#텐서 행렬연산\n",
        "A=tf.random_uniform([3,2])\n",
        "B=tf.fill([2,4],5.2)\n",
        "C=tf.random_normal([3,4])\n",
        "print(sess.run(B))"
      ],
      "execution_count": 12,
      "outputs": [
        {
          "output_type": "stream",
          "text": [
            "[[5.2 5.2 5.2 5.2]\n",
            " [5.2 5.2 5.2 5.2]]\n"
          ],
          "name": "stdout"
        }
      ]
    },
    {
      "metadata": {
        "id": "cxoitIAA7jvb",
        "colab_type": "code",
        "colab": {
          "base_uri": "https://localhost:8080/",
          "height": 119
        },
        "outputId": "5a225de9-708e-418b-ee68-d49204f0f1b2"
      },
      "cell_type": "code",
      "source": [
        "#행렬곱 : matmul\n",
        "#행렬합 : +\n",
        "D=tf.matmul(A,B)+C\n",
        "E=tf.add(tf.matmul(A,B),C)\n",
        "print(sess.run(D))\n",
        "print(sess.run(E))"
      ],
      "execution_count": 13,
      "outputs": [
        {
          "output_type": "stream",
          "text": [
            "[[3.4227536 3.1734653 2.821435  3.4394872]\n",
            " [6.6391673 7.756329  8.308286  7.510356 ]\n",
            " [5.7397456 3.9685118 4.5213957 6.5803633]]\n",
            "[[7.484852  5.767562  5.772023  4.54004  ]\n",
            " [6.2904987 5.9996433 5.772556  5.9506173]\n",
            " [5.441549  4.805258  5.240522  5.266111 ]]\n"
          ],
          "name": "stdout"
        }
      ]
    },
    {
      "metadata": {
        "id": "hsv5V7_mHjzI",
        "colab_type": "code",
        "colab": {
          "base_uri": "https://localhost:8080/",
          "height": 85
        },
        "outputId": "b3a43560-52ec-47fa-fc15-7f68e0a93dbc"
      },
      "cell_type": "code",
      "source": [
        "#활성화 함수(하이퍼볼릭 탄젠트, 시그모이드)\n",
        "E=tf.nn.tanh([10,2,1,0.5,0.-0.5,-1.,-2.,-10.])\n",
        "print(sess.run(E))\n",
        "\n",
        "J=tf.nn.sigmoid([10,2,1,0.5,0,-0.5,-1,-2.,-10.])\n",
        "print(sess.run(J))"
      ],
      "execution_count": 14,
      "outputs": [
        {
          "output_type": "stream",
          "text": [
            "[ 1.          0.9640276   0.7615942   0.46211717 -0.46211717 -0.7615942\n",
            " -0.9640276  -1.        ]\n",
            "[9.9995458e-01 8.8079703e-01 7.3105860e-01 6.2245935e-01 5.0000000e-01\n",
            " 3.7754068e-01 2.6894143e-01 1.1920292e-01 4.5397872e-05]\n"
          ],
          "name": "stdout"
        }
      ]
    },
    {
      "metadata": {
        "id": "R6b7LnoZOa40",
        "colab_type": "code",
        "colab": {
          "base_uri": "https://localhost:8080/",
          "height": 51
        },
        "outputId": "305972ad-2c5f-4f2b-8c59-ab013b87cf35"
      },
      "cell_type": "code",
      "source": [
        "#활성화 함수(ReLU)\n",
        "K1=sess.run(tf.nn.relu([-2.,1.,-3.,13.]))\n",
        "K2=sess.run(tf.nn.relu6([-2.,1.,-3.,13.]))\n",
        "print(K1)\n",
        "print(K2)"
      ],
      "execution_count": 15,
      "outputs": [
        {
          "output_type": "stream",
          "text": [
            "[ 0.  1.  0. 13.]\n",
            "[0. 1. 0. 6.]\n"
          ],
          "name": "stdout"
        }
      ]
    },
    {
      "metadata": {
        "id": "nh_3uaM4OsSv",
        "colab_type": "code",
        "colab": {
          "base_uri": "https://localhost:8080/",
          "height": 34
        },
        "outputId": "189b0f55-3391-48fc-d7b5-3f00cd0ed4f9"
      },
      "cell_type": "code",
      "source": [
        "#활성화 함수(Softplus)\n",
        "K3=sess.run(tf.nn.softplus([-2.,1.,-3.,13.]))\n",
        "print(K3)"
      ],
      "execution_count": 16,
      "outputs": [
        {
          "output_type": "stream",
          "text": [
            "[ 0.12692805  1.3132616   0.04858733 13.000002  ]\n"
          ],
          "name": "stdout"
        }
      ]
    },
    {
      "metadata": {
        "id": "pN13z0fNPJOt",
        "colab_type": "code",
        "colab": {
          "base_uri": "https://localhost:8080/",
          "height": 136
        },
        "outputId": "75969738-b5ea-4591-99a2-cd6dfde53c61"
      },
      "cell_type": "code",
      "source": [
        "#활성화 함수(elu, relu6, softsign, softplus)\n",
        "K4=sess.run(tf.nn.elu([10, 2, 1, 0.5, 0, -0.5, -1., -2., -10.]))\n",
        "print(K4)\n",
        "K5=sess.run(tf.nn.relu6([10, 2, 1, 0.5, 0, -0.5, -1., -2., -10.]))\n",
        "print(K5)\n",
        "K6=sess.run(tf.nn.softsign([10, 2, 1, 0.5, 0, -0.5, -1., -2., -10.]))\n",
        "print(K6)\n",
        "K7=sess.run(tf.nn.softplus([10, 2, 1, 0.5, 0, -0.5, -1., -2., -10.]))\n",
        "print(K7)"
      ],
      "execution_count": 17,
      "outputs": [
        {
          "output_type": "stream",
          "text": [
            "[10.          2.          1.          0.5         0.         -0.39346933\n",
            " -0.63212055 -0.86466473 -0.9999546 ]\n",
            "[6.  2.  1.  0.5 0.  0.  0.  0.  0. ]\n",
            "[ 0.90909094  0.6666667   0.5         0.33333334  0.         -0.33333334\n",
            " -0.5        -0.6666667  -0.90909094]\n",
            "[1.0000046e+01 2.1269281e+00 1.3132616e+00 9.7407699e-01 6.9314718e-01\n",
            " 4.7407699e-01 3.1326163e-01 1.2692805e-01 4.5417706e-05]\n"
          ],
          "name": "stdout"
        }
      ]
    },
    {
      "metadata": {
        "id": "xEAOLNJarMj6",
        "colab_type": "code",
        "colab": {
          "base_uri": "https://localhost:8080/",
          "height": 85
        },
        "outputId": "c9f287f0-3673-4328-b72a-85292d419c08"
      },
      "cell_type": "code",
      "source": [
        "#Loss Function에 대한 정의\n",
        "#Loss Function\n",
        "pred=np.asarray([0.2, 0.3, 0.5, 10.0, 12.0, 13.0, 3.5, 7.4, 3.9, 2.3])\n",
        "actual=np.asarray([0.1, 0.4, 0.6, 9.0, 11.0, 12.0, 3.4, 7.1, 3.8, 2.0])\n",
        "# x_val=tf.convert_to_tensor(pred)\n",
        "\n",
        "#Loss Function : square\n",
        "l2=tf.square(pred-actual)\n",
        "l2_out=sess.run(tf.round(l2))\n",
        "print(l2_out)\n",
        "\n",
        "#Loss Funciton : abs\n",
        "l1=tf.abs(pred-actual)\n",
        "l1_out=sess.run(l1)\n",
        "print(l1_out)\n",
        "\n",
        "#sigmoid entropy\n",
        "softmax_xentropy_variable=tf.nn.sigmoid_cross_entropy_with_logits(logits=l1_out, labels=l2_out)\n",
        "print(sess.run(softmax_xentropy_variable))"
      ],
      "execution_count": 28,
      "outputs": [
        {
          "output_type": "stream",
          "text": [
            "[0. 0. 0. 1. 1. 1. 0. 0. 0. 0.]\n",
            "[0.1 0.1 0.1 1.  1.  1.  0.1 0.3 0.1 0.3]\n",
            "[0.74439666 0.74439666 0.74439666 0.31326169 0.31326169 0.31326169\n",
            " 0.74439666 0.85435524 0.74439666 0.85435524]\n"
          ],
          "name": "stdout"
        }
      ]
    },
    {
      "metadata": {
        "id": "hKqPONEgscPx",
        "colab_type": "code",
        "colab": {}
      },
      "cell_type": "code",
      "source": [
        "x=tf.Variable(3, name='x', dtype=tf.float32)\n",
        "log_x=tf.log(x)\n",
        "log_x_squared=tf.square(x-4)  #log_x)\n",
        "\n",
        "init=tf.global_variables_initializer()\n",
        "optimizer=tf.train.GradientDescentOptimizer(0.7)\n",
        "#optimizer=tf.train.AdamOptimizer(0.7)\n",
        "\n",
        "#loss함수 : log_x_squared\n",
        "#TensorFlow는 loss함수인 log_x_squared를 최소화하기 위해\n",
        "#각 파라미터를 천천히 변경시켜 최적화하는 optimizer를 제공함\n",
        "#여기서는 x가 해당 파라미터임\n",
        "#tensor에는 다양한 optimizer함수가 있으며 \n",
        "#이것을 이용하면 tensor가 알아서 loss fun값을 최소화하는 parameter를 구해줌\n",
        "train=optimizer.minimize(log_x_squared)"
      ],
      "execution_count": 0,
      "outputs": []
    },
    {
      "metadata": {
        "id": "kQRk1XJMjEGY",
        "colab_type": "code",
        "colab": {
          "base_uri": "https://localhost:8080/",
          "height": 544
        },
        "outputId": "ff890b5d-bac9-4fbc-c137-aa8910e4501a"
      },
      "cell_type": "code",
      "source": [
        "with tf.Session() as sess:\n",
        "  sess.run(init)\n",
        "  a=sess.run(x)\n",
        "  b=sess.run(log_x)\n",
        "  c=sess.run(log_x_squared)\n",
        "  \n",
        "  print(\"x=\" + str(a) + \", log_x=\"+ str(b) +\", log_x_squared=\" + str(c))\n",
        "  \n",
        "  for step in range(10):\n",
        "    sess.run(train)\n",
        "    print(\"Step=\",step)\n",
        "    print(\"x:\",a)\n",
        "    a=sess.run(x)\n",
        "    print(\"loss fun. val:\",sess.run(log_x_squared))\n",
        "    \n",
        "\n",
        "# init=tf.global_variables_initializer()\n",
        "\n",
        "# with tf.Session() as sess:\n",
        "#   sess.run(init)\n",
        "#   print(\"starting at:\", \"x:\", sess.run(x), \"log(x)^2:\",sess.run(log_x_squared))\n",
        "#   for step in range(10):\n",
        "#         sess.run(train)\n",
        "#         print(\"step\",step,\"x:\",sess.run(x),\"log(x)^2:\",sess.run(log_x_squared))"
      ],
      "execution_count": 74,
      "outputs": [
        {
          "output_type": "stream",
          "text": [
            "x=3.0, log_x=1.0986123, log_x_squared=1.0\n",
            "('Step=', 0)\n",
            "('x:', 3.0)\n",
            "('loss fun. val:', 0.16000007)\n",
            "('Step=', 1)\n",
            "('x:', 4.4)\n",
            "('loss fun. val:', 0.025600027)\n",
            "('Step=', 2)\n",
            "('x:', 3.84)\n",
            "('loss fun. val:', 0.0040960168)\n",
            "('Step=', 3)\n",
            "('x:', 4.064)\n",
            "('loss fun. val:', 0.0006553578)\n",
            "('Step=', 4)\n",
            "('x:', 3.9744)\n",
            "('loss fun. val:', 0.000104859195)\n",
            "('Step=', 5)\n",
            "('x:', 4.01024)\n",
            "('loss fun. val:', 1.677747e-05)\n",
            "('Step=', 6)\n",
            "('x:', 3.995904)\n",
            "('loss fun. val:', 2.6843954e-06)\n",
            "('Step=', 7)\n",
            "('x:', 4.0016384)\n",
            "('loss fun. val:', 4.2956577e-07)\n",
            "('Step=', 8)\n",
            "('x:', 3.9993446)\n",
            "('loss fun. val:', 6.878054e-08)\n",
            "('Step=', 9)\n",
            "('x:', 4.0002623)\n",
            "('loss fun. val:', 1.1004886e-08)\n"
          ],
          "name": "stdout"
        }
      ]
    },
    {
      "metadata": {
        "id": "CDhTorfV2rDn",
        "colab_type": "code",
        "colab": {}
      },
      "cell_type": "code",
      "source": [
        ""
      ],
      "execution_count": 0,
      "outputs": []
    }
  ]
}