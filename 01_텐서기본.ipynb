{
  "nbformat": 4,
  "nbformat_minor": 0,
  "metadata": {
    "colab": {
      "name": "Hello, Colaboratory",
      "version": "0.3.2",
      "provenance": [],
      "collapsed_sections": [],
      "include_colab_link": true
    },
    "kernelspec": {
      "name": "python2",
      "display_name": "Python 2"
    },
    "accelerator": "GPU"
  },
  "cells": [
    {
      "cell_type": "markdown",
      "metadata": {
        "id": "view-in-github",
        "colab_type": "text"
      },
      "source": [
        "[View in Colaboratory](https://colab.research.google.com/github/sabumjung/Tensorflow/blob/master/01_%ED%85%90%EC%84%9C%EA%B8%B0%EB%B3%B8.ipynb)"
      ]
    },
    {
      "metadata": {
        "id": "Uo-kRk4NyG5C",
        "colab_type": "code",
        "colab": {}
      },
      "cell_type": "code",
      "source": [
        "import tensorflow as tf\n",
        "import numpy as np"
      ],
      "execution_count": 0,
      "outputs": []
    },
    {
      "metadata": {
        "id": "QUuBi7UpyFKh",
        "colab_type": "code",
        "colab": {}
      },
      "cell_type": "code",
      "source": [
        "#그래프 생성\n",
        "Graph1=tf.Graph()\n",
        "with Graph1.as_default():\n",
        "  x_vals=np.array([1.,3.,5.,7.,9.])\n",
        "\n",
        "  m_placeholder=tf.placeholder(tf.float32)\n",
        "  m_const=tf.constant(3.)\n",
        "  m_variable=tf.Variable(30,name=\"sabum\")\n",
        "\n",
        "  init=tf.global_variables_initializer()\n",
        "  my_product=tf.multiply(m_const, m_placeholder)  "
      ],
      "execution_count": 0,
      "outputs": []
    },
    {
      "metadata": {
        "id": "T8-OZ1VRyRXq",
        "colab_type": "code",
        "colab": {
          "base_uri": "https://localhost:8080/",
          "height": 119
        },
        "outputId": "3ff383b6-c22a-43a3-e97b-bd9114ca4b15"
      },
      "cell_type": "code",
      "source": [
        "#실행\n",
        "with tf.Session(graph=Graph1) as sess:\n",
        "  sess.run(init)\n",
        "  print(sess.run(m_variable))\n",
        "\n",
        "  for x_val in x_vals:\n",
        "    print(sess.run(my_product, feed_dict={m_placeholder:x_val}))"
      ],
      "execution_count": 16,
      "outputs": [
        {
          "output_type": "stream",
          "text": [
            "30\n",
            "3.0\n",
            "9.0\n",
            "15.0\n",
            "21.0\n",
            "27.0\n"
          ],
          "name": "stdout"
        }
      ]
    },
    {
      "metadata": {
        "id": "g-8L_GhJygYa",
        "colab_type": "code",
        "colab": {}
      },
      "cell_type": "code",
      "source": [
        "Graph2=tf.Graph()\n",
        "with Graph2.as_default():\n",
        "  #배열의 크기를 모르면 None으로 설정한다.\n",
        "  #특정값으로 설정했다면 반드시 동일한 사이즈의 데이터를 feed_dict에 전달해야 한다.\n",
        "  x=tf.placeholder(\"float\",[None,4])\n",
        "  y=x*10+1"
      ],
      "execution_count": 0,
      "outputs": []
    },
    {
      "metadata": {
        "id": "vzqxaDiB1uRV",
        "colab_type": "code",
        "colab": {
          "base_uri": "https://localhost:8080/",
          "height": 51
        },
        "outputId": "8a346c9a-5cb2-4d95-cbc8-72e6dd927ef8"
      },
      "cell_type": "code",
      "source": [
        "#placeholder에 값을 배정한 후 feed_dict에 저장한다.\n",
        "with tf.Session(graph=Graph2) as sess:\n",
        "  dataX=[[12,2,0,-2],[14,4,1,0]]\n",
        "  placeX=sess.run(y, feed_dict={x:dataX})\n",
        "  print(placeX)"
      ],
      "execution_count": 19,
      "outputs": [
        {
          "output_type": "stream",
          "text": [
            "[[121.  21.   1. -19.]\n",
            " [141.  41.  11.   1.]]\n"
          ],
          "name": "stdout"
        }
      ]
    },
    {
      "metadata": {
        "id": "MMv2vRQm2BQX",
        "colab_type": "code",
        "colab": {
          "base_uri": "https://localhost:8080/",
          "height": 187
        },
        "outputId": "b7570c74-f686-4e31-b6a0-f9c2063986aa"
      },
      "cell_type": "code",
      "source": [
        "#Fixed Tensor 만들기\n",
        "sess=tf.Session()\n",
        "A=sess.run(tf.zeros([2,3]))\n",
        "B=sess.run(tf.ones([2,3]))\n",
        "C=sess.run(tf.fill([2,3],13))\n",
        "D=sess.run(tf.diag([4,-3,2]))\n",
        "E=sess.run(tf.constant([5,2,4,2]))\n",
        "print(A)\n",
        "print(B)\n",
        "print(C)\n",
        "print(D)\n",
        "print(E)"
      ],
      "execution_count": 30,
      "outputs": [
        {
          "output_type": "stream",
          "text": [
            "[[0. 0. 0.]\n",
            " [0. 0. 0.]]\n",
            "[[1. 1. 1.]\n",
            " [1. 1. 1.]]\n",
            "[[13 13 13]\n",
            " [13 13 13]]\n",
            "[[ 4  0  0]\n",
            " [ 0 -3  0]\n",
            " [ 0  0  2]]\n",
            "[5 2 4 2]\n"
          ],
          "name": "stdout"
        }
      ]
    },
    {
      "metadata": {
        "id": "59XjePog3P3h",
        "colab_type": "code",
        "colab": {
          "base_uri": "https://localhost:8080/",
          "height": 119
        },
        "outputId": "25aee014-66be-47c1-c6ac-2b2ef9293a64"
      },
      "cell_type": "code",
      "source": [
        "#Sequence Tensor 만들기\n",
        "#증분으로 sequence 텐서생성\n",
        "G=sess.run(tf.range(start=6, limit=45, delta=3))\n",
        "\n",
        "#동일 space으로 sequence 텐서생성\n",
        "H=sess.run(tf.linspace(10.0, 92.0, 5))\n",
        "\n",
        "#랜덤텐서 생성(일양분포)\n",
        "i=sess.run(tf.random_uniform([2,3], minval=0, maxval=4))\n",
        "\n",
        "#랜덤텐서 생성(정규분포)\n",
        "j=sess.run(tf.random_normal([2,3], mean=5, stddev=4))\n",
        "\n",
        "print(G)\n",
        "print(H)\n",
        "print(i)\n",
        "print(j)"
      ],
      "execution_count": 37,
      "outputs": [
        {
          "output_type": "stream",
          "text": [
            "[ 6  9 12 15 18 21 24 27 30 33 36 39 42]\n",
            "[10.  30.5 51.  71.5 92. ]\n",
            "[[0.52761316 2.696848   1.0273495 ]\n",
            " [2.1780405  2.5636873  0.76131964]]\n",
            "[[2.1166582  8.413364   5.4688516 ]\n",
            " [0.16143751 2.216009   2.8769934 ]]\n"
          ],
          "name": "stdout"
        }
      ]
    },
    {
      "metadata": {
        "id": "UeaS9zjT4uBz",
        "colab_type": "code",
        "colab": {
          "base_uri": "https://localhost:8080/",
          "height": 136
        },
        "outputId": "60526453-a98d-4b05-b03c-272dc9568c6d"
      },
      "cell_type": "code",
      "source": [
        "#행렬 shuffle하기\n",
        "k=sess.run(tf.diag([3,-2,4,5]))\n",
        "k1=sess.run(tf.random_shuffle(k))\n",
        "\n",
        "#sub행렬 가져오기\n",
        "k2=sess.run(tf.random_crop(k1, [3,2]))\n",
        "\n",
        "print(k1)\n",
        "print(k2)"
      ],
      "execution_count": 39,
      "outputs": [
        {
          "output_type": "stream",
          "text": [
            "[[ 0  0  0  5]\n",
            " [ 3  0  0  0]\n",
            " [ 0 -2  0  0]\n",
            " [ 0  0  4  0]]\n",
            "[[ 3  0]\n",
            " [ 0 -2]\n",
            " [ 0  0]]\n"
          ],
          "name": "stdout"
        }
      ]
    },
    {
      "metadata": {
        "id": "ETeuZKyl5zNT",
        "colab_type": "code",
        "colab": {
          "base_uri": "https://localhost:8080/",
          "height": 153
        },
        "outputId": "e5f9b866-c82c-4d47-9fa1-b41c43cb8a2e"
      },
      "cell_type": "code",
      "source": [
        "#텐서 행렬연산\n",
        "A=tf.random_uniform([3,2])\n",
        "B=tf.fill([2,4],5.2)\n",
        "C=tf.random_normal([3,4])\n",
        "print(sess.run(B))"
      ],
      "execution_count": 52,
      "outputs": [
        {
          "output_type": "stream",
          "text": [
            "[[5.2 5.2 5.2 5.2]\n",
            " [5.2 5.2 5.2 5.2]]\n",
            "[[0.90367746 0.1227808 ]\n",
            " [0.86408114 0.84864616]\n",
            " [0.16669023 0.8628353 ]]\n",
            "[[1.4045324 2.3096175 4.011382  2.125338 ]\n",
            " [2.1531868 3.478814  3.8111572 3.2416196]\n",
            " [2.6330993 4.0676937 1.776639  2.0078225]]\n"
          ],
          "name": "stdout"
        }
      ]
    },
    {
      "metadata": {
        "id": "cxoitIAA7jvb",
        "colab_type": "code",
        "colab": {
          "base_uri": "https://localhost:8080/",
          "height": 119
        },
        "outputId": "854bd0ea-89ee-4bd6-860d-cfab60bf7c4f"
      },
      "cell_type": "code",
      "source": [
        "#행렬곱 : matmul\n",
        "#행렬합 : +\n",
        "D=tf.matmul(A,B)+C\n",
        "E=tf.add(tf.matmul(A,B),C)\n",
        "print(sess.run(D))\n",
        "print(sess.run(E))"
      ],
      "execution_count": 56,
      "outputs": [
        {
          "output_type": "stream",
          "text": [
            "[[6.069151  5.741364  6.2865076 4.4445405]\n",
            " [5.870769  4.3105183 6.0257072 4.12537  ]\n",
            " [4.380983  1.2766266 3.7189898 2.1187396]]\n",
            "[[ 1.9637861  1.4915532  4.746661   2.606801 ]\n",
            " [ 1.72238    1.979518   2.7098851  2.1388354]\n",
            " [ 8.502008  10.028577  11.619692   9.604467 ]]\n"
          ],
          "name": "stdout"
        }
      ]
    },
    {
      "metadata": {
        "id": "hsv5V7_mHjzI",
        "colab_type": "code",
        "colab": {
          "base_uri": "https://localhost:8080/",
          "height": 85
        },
        "outputId": "18985578-af09-4675-ffd5-4c25465f6f02"
      },
      "cell_type": "code",
      "source": [
        "#활성화 함수(하이퍼볼릭 탄젠트, 시그모이드)\n",
        "E=tf.nn.tanh([10,2,1,0.5,0.-0.5,-1.,-2.,-10.])\n",
        "print(sess.run(E))\n",
        "\n",
        "J=tf.nn.sigmoid([10,2,1,0.5,0,-0.5,-1,-2.,-10.])\n",
        "print(sess.run(J))"
      ],
      "execution_count": 58,
      "outputs": [
        {
          "output_type": "stream",
          "text": [
            "[ 1.          0.9640276   0.7615942   0.46211717 -0.46211717 -0.7615942\n",
            " -0.9640276  -1.        ]\n",
            "[9.9995458e-01 8.8079703e-01 7.3105860e-01 6.2245935e-01 5.0000000e-01\n",
            " 3.7754068e-01 2.6894143e-01 1.1920292e-01 4.5397872e-05]\n"
          ],
          "name": "stdout"
        }
      ]
    },
    {
      "metadata": {
        "id": "R6b7LnoZOa40",
        "colab_type": "code",
        "colab": {
          "base_uri": "https://localhost:8080/",
          "height": 51
        },
        "outputId": "15ad2ef2-ad7b-482c-9bbc-b33402c5b218"
      },
      "cell_type": "code",
      "source": [
        "#활성화 함수(ReLU)\n",
        "K1=sess.run(tf.nn.relu([-2.,1.,-3.,13.]))\n",
        "K2=sess.run(tf.nn.relu6([-2.,1.,-3.,13.]))\n",
        "print(K1)\n",
        "print(K2)"
      ],
      "execution_count": 65,
      "outputs": [
        {
          "output_type": "stream",
          "text": [
            "[ 0.  1.  0. 13.]\n",
            "[0. 1. 0. 6.]\n"
          ],
          "name": "stdout"
        }
      ]
    },
    {
      "metadata": {
        "id": "nh_3uaM4OsSv",
        "colab_type": "code",
        "colab": {
          "base_uri": "https://localhost:8080/",
          "height": 34
        },
        "outputId": "686b2719-4026-4ab7-852f-9e57afced394"
      },
      "cell_type": "code",
      "source": [
        "#활성화 함수(Softplus)\n",
        "K3=sess.run(tf.nn.softplus([-2.,1.,-3.,13.]))\n",
        "print(K3)"
      ],
      "execution_count": 64,
      "outputs": [
        {
          "output_type": "stream",
          "text": [
            "[ 0.12692805  1.3132616   0.04858733 13.000002  ]\n"
          ],
          "name": "stdout"
        }
      ]
    },
    {
      "metadata": {
        "id": "pN13z0fNPJOt",
        "colab_type": "code",
        "colab": {
          "base_uri": "https://localhost:8080/",
          "height": 136
        },
        "outputId": "baaaedbe-b092-4b7c-92d0-fd652e2dcc71"
      },
      "cell_type": "code",
      "source": [
        "#활성화 함수(elu, relu6, softsign, softplus)\n",
        "K4=sess.run(tf.nn.elu([10, 2, 1, 0.5, 0, -0.5, -1., -2., -10.]))\n",
        "print(K4)\n",
        "K5=sess.run(tf.nn.relu6([10, 2, 1, 0.5, 0, -0.5, -1., -2., -10.]))\n",
        "print(K5)\n",
        "K6=sess.run(tf.nn.softsign([10, 2, 1, 0.5, 0, -0.5, -1., -2., -10.]))\n",
        "print(K6)\n",
        "K7=sess.run(tf.nn.softplus([10, 2, 1, 0.5, 0, -0.5, -1., -2., -10.]))\n",
        "print(K7)"
      ],
      "execution_count": 75,
      "outputs": [
        {
          "output_type": "stream",
          "text": [
            "[10.          2.          1.          0.5         0.         -0.39346933\n",
            " -0.63212055 -0.86466473 -0.9999546 ]\n",
            "[6.  2.  1.  0.5 0.  0.  0.  0.  0. ]\n",
            "[ 0.90909094  0.6666667   0.5         0.33333334  0.         -0.33333334\n",
            " -0.5        -0.6666667  -0.90909094]\n",
            "[1.0000046e+01 2.1269281e+00 1.3132616e+00 9.7407699e-01 6.9314718e-01\n",
            " 4.7407699e-01 3.1326163e-01 1.2692805e-01 4.5417706e-05]\n"
          ],
          "name": "stdout"
        }
      ]
    },
    {
      "metadata": {
        "id": "s3_AIWByP2qp",
        "colab_type": "code",
        "colab": {
          "base_uri": "https://localhost:8080/",
          "height": 34
        },
        "outputId": "add4bf37-e23e-4ec6-f3dc-cdc89ab7df89"
      },
      "cell_type": "code",
      "source": [
        ""
      ],
      "execution_count": 2,
      "outputs": [
        {
          "output_type": "stream",
          "text": [
            "/bin/sh: 1: /root/.jupyter/custom/custom.css: not found\r\n"
          ],
          "name": "stdout"
        }
      ]
    },
    {
      "metadata": {
        "id": "i6QNZfOXZQzD",
        "colab_type": "code",
        "colab": {}
      },
      "cell_type": "code",
      "source": [
        ""
      ],
      "execution_count": 0,
      "outputs": []
    }
  ]
}