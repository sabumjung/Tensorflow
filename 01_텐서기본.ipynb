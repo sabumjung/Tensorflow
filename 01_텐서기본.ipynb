{
  "nbformat": 4,
  "nbformat_minor": 0,
  "metadata": {
    "colab": {
      "name": "Hello, Colaboratory",
      "version": "0.3.2",
      "provenance": [],
      "collapsed_sections": [],
      "include_colab_link": true
    },
    "kernelspec": {
      "display_name": "Python 3",
      "name": "python3"
    }
  },
  "cells": [
    {
      "cell_type": "markdown",
      "metadata": {
        "id": "view-in-github",
        "colab_type": "text"
      },
      "source": [
        "[View in Colaboratory](https://colab.research.google.com/github/sabumjung/Tensorflow/blob/master/01_%ED%85%90%EC%84%9C%EA%B8%B0%EB%B3%B8.ipynb)"
      ]
    },
    {
      "metadata": {
        "id": "Uo-kRk4NyG5C",
        "colab_type": "code",
        "colab": {}
      },
      "cell_type": "code",
      "source": [
        "import tensorflow as tf\n",
        "import numpy as np"
      ],
      "execution_count": 0,
      "outputs": []
    },
    {
      "metadata": {
        "id": "QUuBi7UpyFKh",
        "colab_type": "code",
        "colab": {}
      },
      "cell_type": "code",
      "source": [
        "#그래프 생성\n",
        "Graph1=tf.Graph()\n",
        "with Graph1.as_default():\n",
        "  x_vals=np.array([1.,3.,5.,7.,9.])\n",
        "\n",
        "  m_placeholder=tf.placeholder(tf.float32)\n",
        "  m_const=tf.constant(3.)\n",
        "  m_variable=tf.Variable(30,name=\"sabum\")\n",
        "\n",
        "  init=tf.global_variables_initializer()\n",
        "  my_product=tf.multiply(m_const, m_placeholder)  "
      ],
      "execution_count": 0,
      "outputs": []
    },
    {
      "metadata": {
        "id": "T8-OZ1VRyRXq",
        "colab_type": "code",
        "colab": {
          "base_uri": "https://localhost:8080/",
          "height": 119
        },
        "outputId": "3ff383b6-c22a-43a3-e97b-bd9114ca4b15"
      },
      "cell_type": "code",
      "source": [
        "#실행\n",
        "with tf.Session(graph=Graph1) as sess:\n",
        "  sess.run(init)\n",
        "  print(sess.run(m_variable))\n",
        "\n",
        "  for x_val in x_vals:\n",
        "    print(sess.run(my_product, feed_dict={m_placeholder:x_val}))"
      ],
      "execution_count": 16,
      "outputs": [
        {
          "output_type": "stream",
          "text": [
            "30\n",
            "3.0\n",
            "9.0\n",
            "15.0\n",
            "21.0\n",
            "27.0\n"
          ],
          "name": "stdout"
        }
      ]
    },
    {
      "metadata": {
        "id": "g-8L_GhJygYa",
        "colab_type": "code",
        "colab": {}
      },
      "cell_type": "code",
      "source": [
        "Graph2=tf.Graph()\n",
        "with Graph2.as_default():\n",
        "  #배열의 크기를 모르면 None으로 설정한다.\n",
        "  #특정값으로 설정했다면 반드시 동일한 사이즈의 데이터를 feed_dict에 전달해야 한다.\n",
        "  x=tf.placeholder(\"float\",[None,4])\n",
        "  y=x*10+1"
      ],
      "execution_count": 0,
      "outputs": []
    },
    {
      "metadata": {
        "id": "vzqxaDiB1uRV",
        "colab_type": "code",
        "colab": {
          "base_uri": "https://localhost:8080/",
          "height": 51
        },
        "outputId": "8a346c9a-5cb2-4d95-cbc8-72e6dd927ef8"
      },
      "cell_type": "code",
      "source": [
        "#placeholder에 값을 배정한 후 feed_dict에 저장한다.\n",
        "with tf.Session(graph=Graph2) as sess:\n",
        "  dataX=[[12,2,0,-2],[14,4,1,0]]\n",
        "  placeX=sess.run(y, feed_dict={x:dataX})\n",
        "  print(placeX)"
      ],
      "execution_count": 19,
      "outputs": [
        {
          "output_type": "stream",
          "text": [
            "[[121.  21.   1. -19.]\n",
            " [141.  41.  11.   1.]]\n"
          ],
          "name": "stdout"
        }
      ]
    },
    {
      "metadata": {
        "id": "MMv2vRQm2BQX",
        "colab_type": "code",
        "colab": {
          "base_uri": "https://localhost:8080/",
          "height": 187
        },
        "outputId": "b7570c74-f686-4e31-b6a0-f9c2063986aa"
      },
      "cell_type": "code",
      "source": [
        "#Fixed Tensor 만들기\n",
        "sess=tf.Session()\n",
        "A=sess.run(tf.zeros([2,3]))\n",
        "B=sess.run(tf.ones([2,3]))\n",
        "C=sess.run(tf.fill([2,3],13))\n",
        "D=sess.run(tf.diag([4,-3,2]))\n",
        "E=sess.run(tf.constant([5,2,4,2]))\n",
        "print(A)\n",
        "print(B)\n",
        "print(C)\n",
        "print(D)\n",
        "print(E)"
      ],
      "execution_count": 30,
      "outputs": [
        {
          "output_type": "stream",
          "text": [
            "[[0. 0. 0.]\n",
            " [0. 0. 0.]]\n",
            "[[1. 1. 1.]\n",
            " [1. 1. 1.]]\n",
            "[[13 13 13]\n",
            " [13 13 13]]\n",
            "[[ 4  0  0]\n",
            " [ 0 -3  0]\n",
            " [ 0  0  2]]\n",
            "[5 2 4 2]\n"
          ],
          "name": "stdout"
        }
      ]
    },
    {
      "metadata": {
        "id": "59XjePog3P3h",
        "colab_type": "code",
        "colab": {
          "base_uri": "https://localhost:8080/",
          "height": 119
        },
        "outputId": "25aee014-66be-47c1-c6ac-2b2ef9293a64"
      },
      "cell_type": "code",
      "source": [
        "#Sequence Tensor 만들기\n",
        "#증분으로 sequence 텐서생성\n",
        "G=sess.run(tf.range(start=6, limit=45, delta=3))\n",
        "\n",
        "#동일 space으로 sequence 텐서생성\n",
        "H=sess.run(tf.linspace(10.0, 92.0, 5))\n",
        "\n",
        "#랜덤텐서 생성(일양분포)\n",
        "i=sess.run(tf.random_uniform([2,3], minval=0, maxval=4))\n",
        "\n",
        "#랜덤텐서 생성(정규분포)\n",
        "j=sess.run(tf.random_normal([2,3], mean=5, stddev=4))\n",
        "\n",
        "print(G)\n",
        "print(H)\n",
        "print(i)\n",
        "print(j)"
      ],
      "execution_count": 37,
      "outputs": [
        {
          "output_type": "stream",
          "text": [
            "[ 6  9 12 15 18 21 24 27 30 33 36 39 42]\n",
            "[10.  30.5 51.  71.5 92. ]\n",
            "[[0.52761316 2.696848   1.0273495 ]\n",
            " [2.1780405  2.5636873  0.76131964]]\n",
            "[[2.1166582  8.413364   5.4688516 ]\n",
            " [0.16143751 2.216009   2.8769934 ]]\n"
          ],
          "name": "stdout"
        }
      ]
    },
    {
      "metadata": {
        "id": "UeaS9zjT4uBz",
        "colab_type": "code",
        "colab": {
          "base_uri": "https://localhost:8080/",
          "height": 136
        },
        "outputId": "60526453-a98d-4b05-b03c-272dc9568c6d"
      },
      "cell_type": "code",
      "source": [
        "#행렬 shuffle하기\n",
        "k=sess.run(tf.diag([3,-2,4,5]))\n",
        "k1=sess.run(tf.random_shuffle(k))\n",
        "\n",
        "#sub행렬 가져오기\n",
        "k2=sess.run(tf.random_crop(k1, [3,2]))\n",
        "\n",
        "print(k1)\n",
        "print(k2)"
      ],
      "execution_count": 39,
      "outputs": [
        {
          "output_type": "stream",
          "text": [
            "[[ 0  0  0  5]\n",
            " [ 3  0  0  0]\n",
            " [ 0 -2  0  0]\n",
            " [ 0  0  4  0]]\n",
            "[[ 3  0]\n",
            " [ 0 -2]\n",
            " [ 0  0]]\n"
          ],
          "name": "stdout"
        }
      ]
    },
    {
      "metadata": {
        "id": "ETeuZKyl5zNT",
        "colab_type": "code",
        "colab": {}
      },
      "cell_type": "code",
      "source": [
        ""
      ],
      "execution_count": 0,
      "outputs": []
    }
  ]
}